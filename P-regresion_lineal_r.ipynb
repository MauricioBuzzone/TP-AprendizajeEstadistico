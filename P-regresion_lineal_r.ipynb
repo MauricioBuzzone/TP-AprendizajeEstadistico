{
 "cells": [
  {
   "cell_type": "markdown",
   "id": "a8719d08",
   "metadata": {},
   "source": [
    "# Sin regularizar"
   ]
  },
  {
   "cell_type": "code",
   "execution_count": 1,
   "id": "105f5f1f",
   "metadata": {},
   "outputs": [],
   "source": [
    "library('fastDummies')\n",
    "\n",
    "set.seed(103783)\n",
    "\n",
    "# Cargo el csv\n",
    "mat <- read.csv(\"student-por.csv\")\n",
    "\n",
    "# Train y Test\n",
    "sample <- sample.int(n = nrow(mat), size = floor(.75*nrow(mat)), replace = F)\n",
    "train <- mat[sample, ]\n",
    "test  <- mat[-sample, ]\n",
    "y_train <- c(train$G3)\n",
    "x_train <- subset(train, select = -c(G3))\n",
    "y_test <- c(test$G3)\n",
    "x_test <- subset(test, select = -c(G3))"
   ]
  },
  {
   "cell_type": "code",
   "execution_count": 2,
   "id": "b5dec512",
   "metadata": {},
   "outputs": [],
   "source": [
    "# Preproceso\n",
    "preprocesar <- function(mat) {\n",
    "    mat_prepros <- dummy_cols(mat,remove_first_dummy = TRUE)\n",
    "    mat_prepros <- mat_prepros[-c(1,2,4,5,6,9,10,11,12,16,17,18,19,20,21,22,23)]\n",
    "    as.data.frame(scale(mat_prepros))\n",
    "}\n",
    "x_train <- preprocesar(x_train)"
   ]
  },
  {
   "cell_type": "code",
   "execution_count": 3,
   "id": "48ff2fe6",
   "metadata": {
    "scrolled": true
   },
   "outputs": [
    {
     "data": {
      "text/plain": [
       "\n",
       "Call:\n",
       "lm(formula = y_train ~ ., data = x_train)\n",
       "\n",
       "Residuals:\n",
       "    Min      1Q  Median      3Q     Max \n",
       "-8.5486 -0.4959  0.0111  0.5685  2.6657 \n",
       "\n",
       "Coefficients:\n",
       "                   Estimate Std. Error t value Pr(>|t|)    \n",
       "(Intercept)       11.905350   0.051557 230.916   <2e-16 ***\n",
       "age                0.099368   0.061939   1.604   0.1094    \n",
       "Medu              -0.087148   0.085593  -1.018   0.3092    \n",
       "Fedu               0.069382   0.074251   0.934   0.3506    \n",
       "traveltime         0.086866   0.058746   1.479   0.1399    \n",
       "studytime          0.053623   0.058035   0.924   0.3560    \n",
       "failures          -0.133175   0.062068  -2.146   0.0324 *  \n",
       "famrel            -0.049136   0.056238  -0.874   0.3827    \n",
       "freetime          -0.071597   0.057968  -1.235   0.2174    \n",
       "goout             -0.063080   0.061566  -1.025   0.3061    \n",
       "Dalc              -0.133375   0.068815  -1.938   0.0532 .  \n",
       "Walc              -0.025892   0.074658  -0.347   0.7289    \n",
       "health            -0.090847   0.055539  -1.636   0.1026    \n",
       "absences           0.035831   0.057526   0.623   0.5337    \n",
       "G1                 0.224414   0.105500   2.127   0.0340 *  \n",
       "G2                 2.468795   0.105009  23.510   <2e-16 ***\n",
       "school_MS         -0.069152   0.064924  -1.065   0.2874    \n",
       "sex_M             -0.033617   0.061252  -0.549   0.5834    \n",
       "address_U         -0.008697   0.057946  -0.150   0.8808    \n",
       "famsize_LE3       -0.017627   0.055745  -0.316   0.7520    \n",
       "Pstatus_T         -0.046468   0.057427  -0.809   0.4189    \n",
       "Mjob_health        0.100075   0.071935   1.391   0.1649    \n",
       "Mjob_other         0.038252   0.073715   0.519   0.6041    \n",
       "Mjob_services      0.057906   0.074559   0.777   0.4378    \n",
       "Mjob_teacher       0.071741   0.080704   0.889   0.3745    \n",
       "Fjob_health       -0.056681   0.071895  -0.788   0.4309    \n",
       "Fjob_other        -0.181323   0.112950  -1.605   0.1091    \n",
       "Fjob_services     -0.207331   0.106418  -1.948   0.0520 .  \n",
       "Fjob_teacher      -0.083552   0.077612  -1.077   0.2823    \n",
       "reason_home       -0.011522   0.059656  -0.193   0.8469    \n",
       "reason_other      -0.004181   0.056927  -0.073   0.9415    \n",
       "reason_reputation -0.023998   0.061149  -0.392   0.6949    \n",
       "guardian_mother    0.038966   0.060907   0.640   0.5227    \n",
       "guardian_other     0.047070   0.064555   0.729   0.4663    \n",
       "schoolsup_yes     -0.129249   0.057047  -2.266   0.0240 *  \n",
       "famsup_yes         0.009516   0.055138   0.173   0.8631    \n",
       "paid_yes          -0.106882   0.054937  -1.946   0.0523 .  \n",
       "activities_yes     0.015242   0.054953   0.277   0.7816    \n",
       "nursery_yes       -0.067446   0.053966  -1.250   0.2120    \n",
       "higher_yes         0.138977   0.058870   2.361   0.0187 *  \n",
       "internet_yes       0.043560   0.058181   0.749   0.4544    \n",
       "romantic_yes      -0.058709   0.055107  -1.065   0.2873    \n",
       "---\n",
       "Signif. codes:  0 ‘***’ 0.001 ‘**’ 0.01 ‘*’ 0.05 ‘.’ 0.1 ‘ ’ 1\n",
       "\n",
       "Residual standard error: 1.137 on 444 degrees of freedom\n",
       "Multiple R-squared:  0.8734,\tAdjusted R-squared:  0.8617 \n",
       "F-statistic: 74.69 on 41 and 444 DF,  p-value: < 2.2e-16\n"
      ]
     },
     "metadata": {},
     "output_type": "display_data"
    }
   ],
   "source": [
    "model <- lm(formula=y_train~.,data=x_train)\n",
    "summary(model)"
   ]
  },
  {
   "cell_type": "code",
   "execution_count": 4,
   "id": "6aa0a9ca",
   "metadata": {},
   "outputs": [],
   "source": [
    "x_test <- preprocesar(x_test)\n",
    "pred <- predict(model, x_test)\n",
    "modelEval <- cbind(y_test, pred)\n",
    "colnames(modelEval) <- c('Actual', 'Predicted')\n",
    "modelEval <- as.data.frame(modelEval)"
   ]
  },
  {
   "cell_type": "code",
   "execution_count": 5,
   "id": "9c40a4ef",
   "metadata": {},
   "outputs": [
    {
     "name": "stdout",
     "output_type": "stream",
     "text": [
      "Mean Squared Error: 2.767733NULL\n",
      "Mean Absolute Error: 1.663651NULL\n"
     ]
    }
   ],
   "source": [
    "mse <- mean((modelEval$Actual - modelEval$Predicted)**2)\n",
    "rmse <- sqrt(mse)\n",
    "print(cat(\"Mean Squared Error:\",mse))\n",
    "print(cat(\"Mean Absolute Error:\",rmse))"
   ]
  },
  {
   "cell_type": "markdown",
   "id": "d6cb29db",
   "metadata": {},
   "source": [
    "# Lasso"
   ]
  },
  {
   "cell_type": "code",
   "execution_count": 6,
   "id": "d7468df1",
   "metadata": {},
   "outputs": [
    {
     "name": "stderr",
     "output_type": "stream",
     "text": [
      "Loading required package: Matrix\n",
      "\n",
      "Loaded glmnet 4.1-2\n",
      "\n"
     ]
    }
   ],
   "source": [
    "library(\"glmnet\")"
   ]
  },
  {
   "cell_type": "code",
   "execution_count": 7,
   "id": "7da7793e",
   "metadata": {},
   "outputs": [],
   "source": [
    "# Cargo el csv\n",
    "mat <- read.csv(\"student-por.csv\")\n",
    "\n",
    "# Train y Test\n",
    "sample <- sample.int(n = nrow(mat), size = floor(.75*nrow(mat)), replace = F)\n",
    "train <- mat[sample, ]\n",
    "test  <- mat[-sample, ]\n",
    "y_train <- c(train$G3)\n",
    "x_train <- subset(train, select = -c(G3))\n",
    "y_test <- c(test$G3)\n",
    "x_test <- subset(test, select = -c(G3))"
   ]
  },
  {
   "cell_type": "code",
   "execution_count": 8,
   "id": "cb998d89",
   "metadata": {},
   "outputs": [],
   "source": [
    "mat_prepros <- dummy_cols(x_train,remove_first_dummy = TRUE)\n",
    "mat_prepros <- mat_prepros[-c(1,2,4,5,6,9,10,11,12,16,17,18,19,20,21,22,23)]\n",
    "x_train <- scale(mat_prepros)\n",
    "\n",
    "mat_prepros <- dummy_cols(x_test,remove_first_dummy = TRUE)\n",
    "mat_prepros <- mat_prepros[-c(1,2,4,5,6,9,10,11,12,16,17,18,19,20,21,22,23)]\n",
    "x_test <- scale(mat_prepros)"
   ]
  },
  {
   "cell_type": "code",
   "execution_count": 9,
   "id": "b52dc236",
   "metadata": {},
   "outputs": [],
   "source": [
    "lambdas <- 10^seq(2, -3, by = -.1)"
   ]
  },
  {
   "cell_type": "code",
   "execution_count": 10,
   "id": "93ff68e1",
   "metadata": {},
   "outputs": [
    {
     "data": {
      "text/html": [
       "0.125892541179417"
      ],
      "text/latex": [
       "0.125892541179417"
      ],
      "text/markdown": [
       "0.125892541179417"
      ],
      "text/plain": [
       "[1] 0.1258925"
      ]
     },
     "metadata": {},
     "output_type": "display_data"
    }
   ],
   "source": [
    "# Setting alpha = 1 implements lasso regression\n",
    "lasso_reg <- cv.glmnet(x_train, y_train, alpha = 1, lambda = lambdas, standardize = TRUE, nfolds = 5)\n",
    "\n",
    "# Best \n",
    "lambda_best <- lasso_reg$lambda.min\n",
    "lambda_best"
   ]
  },
  {
   "cell_type": "code",
   "execution_count": 11,
   "id": "754c3b7b",
   "metadata": {},
   "outputs": [
    {
     "data": {
      "text/html": [
       "<table class=\"dataframe\">\n",
       "<caption>A data.frame: 1 × 2</caption>\n",
       "<thead>\n",
       "\t<tr><th scope=col>RMSE</th><th scope=col>Rsquare</th></tr>\n",
       "\t<tr><th scope=col>&lt;dbl&gt;</th><th scope=col>&lt;dbl&gt;</th></tr>\n",
       "</thead>\n",
       "<tbody>\n",
       "\t<tr><td>1.257086</td><td>0.8508725</td></tr>\n",
       "</tbody>\n",
       "</table>\n"
      ],
      "text/latex": [
       "A data.frame: 1 × 2\n",
       "\\begin{tabular}{ll}\n",
       " RMSE & Rsquare\\\\\n",
       " <dbl> & <dbl>\\\\\n",
       "\\hline\n",
       "\t 1.257086 & 0.8508725\\\\\n",
       "\\end{tabular}\n"
      ],
      "text/markdown": [
       "\n",
       "A data.frame: 1 × 2\n",
       "\n",
       "| RMSE &lt;dbl&gt; | Rsquare &lt;dbl&gt; |\n",
       "|---|---|\n",
       "| 1.257086 | 0.8508725 |\n",
       "\n"
      ],
      "text/plain": [
       "  RMSE     Rsquare  \n",
       "1 1.257086 0.8508725"
      ]
     },
     "metadata": {},
     "output_type": "display_data"
    },
    {
     "data": {
      "text/html": [
       "<table class=\"dataframe\">\n",
       "<caption>A data.frame: 1 × 2</caption>\n",
       "<thead>\n",
       "\t<tr><th scope=col>RMSE</th><th scope=col>Rsquare</th></tr>\n",
       "\t<tr><th scope=col>&lt;dbl&gt;</th><th scope=col>&lt;dbl&gt;</th></tr>\n",
       "</thead>\n",
       "<tbody>\n",
       "\t<tr><td>1.268414</td><td>0.8374397</td></tr>\n",
       "</tbody>\n",
       "</table>\n"
      ],
      "text/latex": [
       "A data.frame: 1 × 2\n",
       "\\begin{tabular}{ll}\n",
       " RMSE & Rsquare\\\\\n",
       " <dbl> & <dbl>\\\\\n",
       "\\hline\n",
       "\t 1.268414 & 0.8374397\\\\\n",
       "\\end{tabular}\n"
      ],
      "text/markdown": [
       "\n",
       "A data.frame: 1 × 2\n",
       "\n",
       "| RMSE &lt;dbl&gt; | Rsquare &lt;dbl&gt; |\n",
       "|---|---|\n",
       "| 1.268414 | 0.8374397 |\n",
       "\n"
      ],
      "text/plain": [
       "  RMSE     Rsquare  \n",
       "1 1.268414 0.8374397"
      ]
     },
     "metadata": {},
     "output_type": "display_data"
    }
   ],
   "source": [
    "eval_results <- function(true, predicted, df) {\n",
    "  SSE <- sum((predicted - true)^2)\n",
    "  SST <- sum((true - mean(true))^2)\n",
    "  R_square <- 1 - SSE / SST\n",
    "  RMSE = sqrt(SSE/nrow(df))\n",
    "\n",
    "  \n",
    "  # Model performance metrics\n",
    "data.frame(\n",
    "  RMSE = RMSE,\n",
    "  Rsquare = R_square\n",
    ")\n",
    "  \n",
    "}\n",
    "\n",
    "# Prediction and evaluation on train data\n",
    "predictions_train <- predict(lasso_reg, s = lambda_best, newx = x_train)\n",
    "eval_results(y_train, predictions_train, x_train)\n",
    "\n",
    "predictions_test <- predict(lasso_reg, s = lambda_best, newx = x_test)\n",
    "eval_results(y_test, predictions_test, x_test)"
   ]
  },
  {
   "cell_type": "code",
   "execution_count": 12,
   "id": "b2a6fb06",
   "metadata": {},
   "outputs": [
    {
     "data": {
      "text/plain": [
       "42 x 1 sparse Matrix of class \"dgCMatrix\"\n",
       "                           s1\n",
       "(Intercept)       11.90946502\n",
       "age                .         \n",
       "Medu               .         \n",
       "Fedu               .         \n",
       "traveltime         .         \n",
       "studytime          .         \n",
       "failures          -0.04227312\n",
       "famrel             .         \n",
       "freetime           .         \n",
       "goout              .         \n",
       "Dalc               .         \n",
       "Walc               .         \n",
       "health             .         \n",
       "absences           .         \n",
       "G1                 0.27230750\n",
       "G2                 2.62173841\n",
       "school_MS          .         \n",
       "sex_M              .         \n",
       "address_U          .         \n",
       "famsize_LE3        .         \n",
       "Pstatus_T          .         \n",
       "Mjob_health        .         \n",
       "Mjob_other         .         \n",
       "Mjob_services      .         \n",
       "Mjob_teacher       .         \n",
       "Fjob_health        .         \n",
       "Fjob_other         .         \n",
       "Fjob_services      .         \n",
       "Fjob_teacher       .         \n",
       "reason_home        .         \n",
       "reason_other      -0.02064782\n",
       "reason_reputation  .         \n",
       "guardian_mother    .         \n",
       "guardian_other     .         \n",
       "schoolsup_yes      .         \n",
       "famsup_yes         .         \n",
       "paid_yes           .         \n",
       "activities_yes     .         \n",
       "nursery_yes        .         \n",
       "higher_yes         0.00424937\n",
       "internet_yes       .         \n",
       "romantic_yes       .         "
      ]
     },
     "metadata": {},
     "output_type": "display_data"
    }
   ],
   "source": [
    "coef(lasso_reg, s = \"lambda.min\")"
   ]
  },
  {
   "cell_type": "markdown",
   "id": "6eef8ca6",
   "metadata": {},
   "source": [
    "# Ridge"
   ]
  },
  {
   "cell_type": "code",
   "execution_count": 13,
   "id": "0e17f450",
   "metadata": {},
   "outputs": [],
   "source": [
    "library(\"glmnet\")"
   ]
  },
  {
   "cell_type": "code",
   "execution_count": 14,
   "id": "2f2828bc",
   "metadata": {},
   "outputs": [],
   "source": [
    "# Cargo el csv\n",
    "mat <- read.csv(\"student-por.csv\")\n",
    "\n",
    "# Train y Test\n",
    "sample <- sample.int(n = nrow(mat), size = floor(.75*nrow(mat)), replace = F)\n",
    "train <- mat[sample, ]\n",
    "test  <- mat[-sample, ]\n",
    "y_train <- c(train$G3)\n",
    "x_train <- subset(train, select = -c(G3))\n",
    "y_test <- c(test$G3)\n",
    "x_test <- subset(test, select = -c(G3))"
   ]
  },
  {
   "cell_type": "code",
   "execution_count": 15,
   "id": "bd04c061",
   "metadata": {},
   "outputs": [],
   "source": [
    "mat_prepros <- dummy_cols(x_train,remove_first_dummy = TRUE)\n",
    "mat_prepros <- mat_prepros[-c(1,2,4,5,6,9,10,11,12,16,17,18,19,20,21,22,23)]\n",
    "x_train <- scale(mat_prepros)\n",
    "\n",
    "mat_prepros <- dummy_cols(x_test,remove_first_dummy = TRUE)\n",
    "mat_prepros <- mat_prepros[-c(1,2,4,5,6,9,10,11,12,16,17,18,19,20,21,22,23)]\n",
    "x_test <- scale(mat_prepros)"
   ]
  },
  {
   "cell_type": "code",
   "execution_count": 16,
   "id": "c6e718e7",
   "metadata": {},
   "outputs": [],
   "source": [
    "lambdas <- 10^seq(2, -3, by = -.1)"
   ]
  },
  {
   "cell_type": "code",
   "execution_count": 17,
   "id": "0bfe2e9c",
   "metadata": {},
   "outputs": [
    {
     "data": {
      "text/html": [
       "0.0398107170553497"
      ],
      "text/latex": [
       "0.0398107170553497"
      ],
      "text/markdown": [
       "0.0398107170553497"
      ],
      "text/plain": [
       "[1] 0.03981072"
      ]
     },
     "metadata": {},
     "output_type": "display_data"
    }
   ],
   "source": [
    "ridge_reg <- cv.glmnet(x_train, y_train, alpha = 0, lambda = lambdas)\n",
    "optimal_lambda <- ridge_reg$lambda.min\n",
    "optimal_lambda"
   ]
  },
  {
   "cell_type": "code",
   "execution_count": 18,
   "id": "1239272e",
   "metadata": {},
   "outputs": [
    {
     "data": {
      "text/html": [
       "<table class=\"dataframe\">\n",
       "<caption>A data.frame: 1 × 2</caption>\n",
       "<thead>\n",
       "\t<tr><th scope=col>RMSE</th><th scope=col>Rsquare</th></tr>\n",
       "\t<tr><th scope=col>&lt;dbl&gt;</th><th scope=col>&lt;dbl&gt;</th></tr>\n",
       "</thead>\n",
       "<tbody>\n",
       "\t<tr><td>1.241106</td><td>0.8556206</td></tr>\n",
       "</tbody>\n",
       "</table>\n"
      ],
      "text/latex": [
       "A data.frame: 1 × 2\n",
       "\\begin{tabular}{ll}\n",
       " RMSE & Rsquare\\\\\n",
       " <dbl> & <dbl>\\\\\n",
       "\\hline\n",
       "\t 1.241106 & 0.8556206\\\\\n",
       "\\end{tabular}\n"
      ],
      "text/markdown": [
       "\n",
       "A data.frame: 1 × 2\n",
       "\n",
       "| RMSE &lt;dbl&gt; | Rsquare &lt;dbl&gt; |\n",
       "|---|---|\n",
       "| 1.241106 | 0.8556206 |\n",
       "\n"
      ],
      "text/plain": [
       "  RMSE     Rsquare  \n",
       "1 1.241106 0.8556206"
      ]
     },
     "metadata": {},
     "output_type": "display_data"
    },
    {
     "data": {
      "text/html": [
       "<table class=\"dataframe\">\n",
       "<caption>A data.frame: 1 × 2</caption>\n",
       "<thead>\n",
       "\t<tr><th scope=col>RMSE</th><th scope=col>Rsquare</th></tr>\n",
       "\t<tr><th scope=col>&lt;dbl&gt;</th><th scope=col>&lt;dbl&gt;</th></tr>\n",
       "</thead>\n",
       "<tbody>\n",
       "\t<tr><td>1.240751</td><td>0.839189</td></tr>\n",
       "</tbody>\n",
       "</table>\n"
      ],
      "text/latex": [
       "A data.frame: 1 × 2\n",
       "\\begin{tabular}{ll}\n",
       " RMSE & Rsquare\\\\\n",
       " <dbl> & <dbl>\\\\\n",
       "\\hline\n",
       "\t 1.240751 & 0.839189\\\\\n",
       "\\end{tabular}\n"
      ],
      "text/markdown": [
       "\n",
       "A data.frame: 1 × 2\n",
       "\n",
       "| RMSE &lt;dbl&gt; | Rsquare &lt;dbl&gt; |\n",
       "|---|---|\n",
       "| 1.240751 | 0.839189 |\n",
       "\n"
      ],
      "text/plain": [
       "  RMSE     Rsquare \n",
       "1 1.240751 0.839189"
      ]
     },
     "metadata": {},
     "output_type": "display_data"
    }
   ],
   "source": [
    "# Prediction and evaluation on train data\n",
    "predictions_train <- predict(ridge_reg, s = optimal_lambda, newx = x_train)\n",
    "eval_results(y_train, predictions_train, x_train)\n",
    "\n",
    "# Prediction and evaluation on test data\n",
    "predictions_test <- predict(ridge_reg, s = optimal_lambda, newx = x_test)\n",
    "eval_results(y_test, predictions_test, x_test)"
   ]
  },
  {
   "cell_type": "code",
   "execution_count": 19,
   "id": "022845d2",
   "metadata": {},
   "outputs": [
    {
     "data": {
      "text/plain": [
       "42 x 1 sparse Matrix of class \"dgCMatrix\"\n",
       "                             s1\n",
       "(Intercept)       12.0020576132\n",
       "age                0.0498902504\n",
       "Medu              -0.1716398804\n",
       "Fedu               0.0688709504\n",
       "traveltime         0.0810366089\n",
       "studytime          0.0912781967\n",
       "failures          -0.2420528380\n",
       "famrel             0.0296305038\n",
       "freetime          -0.0766860360\n",
       "goout             -0.1255635497\n",
       "Dalc              -0.0501234185\n",
       "Walc               0.0773748824\n",
       "health            -0.1444183065\n",
       "absences           0.0518657074\n",
       "G1                 0.5466920749\n",
       "G2                 2.2894670909\n",
       "school_MS         -0.0810488794\n",
       "sex_M             -0.0881897146\n",
       "address_U          0.0772111523\n",
       "famsize_LE3       -0.0006771885\n",
       "Pstatus_T         -0.0580680843\n",
       "Mjob_health        0.0766146635\n",
       "Mjob_other        -0.0364484519\n",
       "Mjob_services      0.0809835665\n",
       "Mjob_teacher       0.0859772369\n",
       "Fjob_health       -0.1177708242\n",
       "Fjob_other        -0.1617984419\n",
       "Fjob_services     -0.2091861143\n",
       "Fjob_teacher      -0.1212353884\n",
       "reason_home       -0.0651402361\n",
       "reason_other      -0.1482336537\n",
       "reason_reputation -0.0334027622\n",
       "guardian_mother    0.0004519273\n",
       "guardian_other     0.1353046015\n",
       "schoolsup_yes     -0.0429951397\n",
       "famsup_yes         0.0502001588\n",
       "paid_yes          -0.0689926333\n",
       "activities_yes     0.0556812153\n",
       "nursery_yes        0.0230814157\n",
       "higher_yes         0.0676915399\n",
       "internet_yes       0.0420584449\n",
       "romantic_yes      -0.0170031660"
      ]
     },
     "metadata": {},
     "output_type": "display_data"
    }
   ],
   "source": [
    "coef(ridge_reg, s = \"lambda.min\")"
   ]
  }
 ],
 "metadata": {
  "kernelspec": {
   "display_name": "R",
   "language": "R",
   "name": "ir"
  },
  "language_info": {
   "codemirror_mode": "r",
   "file_extension": ".r",
   "mimetype": "text/x-r-source",
   "name": "R",
   "pygments_lexer": "r",
   "version": "4.1.1"
  }
 },
 "nbformat": 4,
 "nbformat_minor": 5
}
