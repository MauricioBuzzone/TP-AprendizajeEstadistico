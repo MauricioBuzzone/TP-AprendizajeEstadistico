{
 "cells": [
  {
   "cell_type": "code",
   "execution_count": 57,
   "id": "ee12a06b",
   "metadata": {},
   "outputs": [],
   "source": [
    "library('fastDummies')\n",
    "\n",
    "set.seed(103783)\n",
    "\n",
    "# Cargo el csv\n",
    "mat <- read.csv(\"student-mat.csv\")\n",
    "\n",
    "# Train y Test\n",
    "sample <- sample.int(n = nrow(mat), size = floor(.75*nrow(mat)), replace = F)\n",
    "train <- mat[sample, ]\n",
    "test  <- mat[-sample, ]\n",
    "y_train <- c(train$G3)\n",
    "x_train <- subset(train, select = -c(G3))\n",
    "y_test <- c(test$G3)\n",
    "x_test <- subset(test, select = -c(G3))"
   ]
  },
  {
   "cell_type": "code",
   "execution_count": null,
   "id": "298129dc",
   "metadata": {},
   "outputs": [],
   "source": [
    "# Preproceso\n",
    "preprocesar <- function(mat) {\n",
    "    mat_prepros <- dummy_cols(mat,remove_first_dummy = TRUE)\n",
    "    mat_prepros <- mat_prepros[-c(1,2,4,5,6,9,10,11,12,16,17,18,19,20,21,22,23)]\n",
    "    as.data.frame(scale(mat_prepros))\n",
    "}\n",
    "x_train <- preprocesar(x_train)"
   ]
  },
  {
   "cell_type": "code",
   "execution_count": 68,
   "id": "36d6e7da",
   "metadata": {},
   "outputs": [
    {
     "data": {
      "text/plain": [
       "\n",
       "Call:\n",
       "lm(formula = y_train ~ ., data = x_train)\n",
       "\n",
       "Residuals:\n",
       "    Min      1Q  Median      3Q     Max \n",
       "-7.5996 -0.6483  0.2539  1.0342  4.5665 \n",
       "\n",
       "Coefficients:\n",
       "                 Estimate Std. Error t value Pr(>|t|)    \n",
       "(Intercept)      -0.73711    2.62040  -0.281   0.7787    \n",
       "schoolMS          0.72220    0.44723   1.615   0.1076    \n",
       "sexM              0.27734    0.27753   0.999   0.3186    \n",
       "age              -0.21071    0.12763  -1.651   0.1000 .  \n",
       "addressU          0.23146    0.33340   0.694   0.4882    \n",
       "famsizeLE3        0.07676    0.28066   0.273   0.7847    \n",
       "PstatusT         -0.17140    0.40047  -0.428   0.6690    \n",
       "Medu              0.15616    0.17741   0.880   0.3796    \n",
       "Fedu             -0.15817    0.15273  -1.036   0.3013    \n",
       "Mjobhealth       -0.10447    0.66612  -0.157   0.8755    \n",
       "Mjobother        -0.06454    0.39871  -0.162   0.8715    \n",
       "Mjobservices     -0.18132    0.44797  -0.405   0.6860    \n",
       "Mjobteacher      -0.06407    0.57841  -0.111   0.9119    \n",
       "Fjobhealth       -0.07176    0.85516  -0.084   0.9332    \n",
       "Fjobother         0.07654    0.56855   0.135   0.8930    \n",
       "Fjobservices     -0.34480    0.59767  -0.577   0.5645    \n",
       "Fjobteacher      -0.08314    0.70020  -0.119   0.9056    \n",
       "reasonhome       -0.15352    0.30821  -0.498   0.6188    \n",
       "reasonother       0.23402    0.47513   0.493   0.6228    \n",
       "reasonreputation  0.27648    0.32982   0.838   0.4027    \n",
       "guardianmother    0.10731    0.31032   0.346   0.7298    \n",
       "guardianother     0.11946    0.60699   0.197   0.8441    \n",
       "traveltime        0.04076    0.18889   0.216   0.8293    \n",
       "studytime        -0.20254    0.16754  -1.209   0.2278    \n",
       "failures         -0.20491    0.19781  -1.036   0.3012    \n",
       "schoolsupyes      0.57898    0.36426   1.589   0.1132    \n",
       "famsupyes         0.23235    0.26600   0.873   0.3832    \n",
       "paidyes          -0.02815    0.26359  -0.107   0.9150    \n",
       "activitiesyes    -0.24239    0.24784  -0.978   0.3290    \n",
       "nurseryyes       -0.02941    0.32454  -0.091   0.9279    \n",
       "higheryes         0.49189    0.65846   0.747   0.4557    \n",
       "internetyes      -0.06353    0.34656  -0.183   0.8547    \n",
       "romanticyes      -0.28612    0.26688  -1.072   0.2847    \n",
       "famrel            0.35099    0.14328   2.450   0.0150 *  \n",
       "freetime         -0.04533    0.13358  -0.339   0.7346    \n",
       "goout             0.06153    0.12749   0.483   0.6298    \n",
       "Dalc             -0.11897    0.19120  -0.622   0.5344    \n",
       "Walc              0.12155    0.13660   0.890   0.3744    \n",
       "health            0.08952    0.09414   0.951   0.3425    \n",
       "absences          0.03862    0.01525   2.533   0.0119 *  \n",
       "G1                0.21202    0.07726   2.744   0.0065 ** \n",
       "G2                0.93248    0.06517  14.308   <2e-16 ***\n",
       "---\n",
       "Signif. codes:  0 ‘***’ 0.001 ‘**’ 0.01 ‘*’ 0.05 ‘.’ 0.1 ‘ ’ 1\n",
       "\n",
       "Residual standard error: 1.967 on 254 degrees of freedom\n",
       "Multiple R-squared:  0.8505,\tAdjusted R-squared:  0.8264 \n",
       "F-statistic: 35.25 on 41 and 254 DF,  p-value: < 2.2e-16\n"
      ]
     },
     "metadata": {},
     "output_type": "display_data"
    }
   ],
   "source": [
    "model <- lm(formula=y_train~.,data=x_train)\n",
    "summary(model)"
   ]
  },
  {
   "cell_type": "code",
   "execution_count": 73,
   "id": "130e4287",
   "metadata": {},
   "outputs": [],
   "source": [
    "pred <- predict(model, x_test)\n",
    "modelEval <- cbind(y_test, pred)\n",
    "colnames(modelEval) <- c('Actual', 'Predicted')\n",
    "modelEval <- as.data.frame(modelEval)"
   ]
  },
  {
   "cell_type": "code",
   "execution_count": 79,
   "id": "a318cabe",
   "metadata": {},
   "outputs": [
    {
     "name": "stdout",
     "output_type": "stream",
     "text": [
      "Mean Squared Error: 3.245612NULL\n",
      "Mean Absolute Error: 1.801558NULL\n"
     ]
    }
   ],
   "source": [
    "mse <- mean((modelEval$Actual - modelEval$Predicted)**2)\n",
    "rmse <- sqrt(mse)\n",
    "print(cat(\"Mean Squared Error:\",mse))\n",
    "print(cat(\"Mean Absolute Error:\",rmse))"
   ]
  }
 ],
 "metadata": {
  "kernelspec": {
   "display_name": "R",
   "language": "R",
   "name": "ir"
  },
  "language_info": {
   "codemirror_mode": "r",
   "file_extension": ".r",
   "mimetype": "text/x-r-source",
   "name": "R",
   "pygments_lexer": "r",
   "version": "4.1.1"
  }
 },
 "nbformat": 4,
 "nbformat_minor": 5
}
