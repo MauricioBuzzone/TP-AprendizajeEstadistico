{
 "cells": [
  {
   "cell_type": "markdown",
   "id": "c86c93bd",
   "metadata": {},
   "source": [
    "# Sin regularizar"
   ]
  },
  {
   "cell_type": "code",
   "execution_count": 1,
   "id": "4e2c2b9a",
   "metadata": {},
   "outputs": [],
   "source": [
    "library('fastDummies')\n",
    "\n",
    "set.seed(103783)\n",
    "\n",
    "# Cargo el csv\n",
    "mat <- read.csv(\"student-mat.csv\")\n",
    "\n",
    "# Train y Test\n",
    "sample <- sample.int(n = nrow(mat), size = floor(.75*nrow(mat)), replace = F)\n",
    "train <- mat[sample, ]\n",
    "test  <- mat[-sample, ]\n",
    "y_train <- c(train$G3)\n",
    "x_train <- subset(train, select = -c(G3))\n",
    "y_test <- c(test$G3)\n",
    "x_test <- subset(test, select = -c(G3))"
   ]
  },
  {
   "cell_type": "code",
   "execution_count": 2,
   "id": "929ccb2d",
   "metadata": {},
   "outputs": [],
   "source": [
    "# Preproceso\n",
    "preprocesar <- function(mat) {\n",
    "    mat_prepros <- dummy_cols(mat,remove_first_dummy = TRUE)\n",
    "    mat_prepros <- mat_prepros[-c(1,2,4,5,6,9,10,11,12,16,17,18,19,20,21,22,23)]\n",
    "    as.data.frame(scale(mat_prepros))\n",
    "}\n",
    "x_train <- preprocesar(x_train)"
   ]
  },
  {
   "cell_type": "code",
   "execution_count": 3,
   "id": "37416ff8",
   "metadata": {
    "scrolled": true
   },
   "outputs": [
    {
     "data": {
      "text/plain": [
       "\n",
       "Call:\n",
       "lm(formula = y_train ~ ., data = x_train)\n",
       "\n",
       "Residuals:\n",
       "    Min      1Q  Median      3Q     Max \n",
       "-7.5996 -0.6483  0.2539  1.0342  4.5665 \n",
       "\n",
       "Coefficients:\n",
       "                  Estimate Std. Error t value Pr(>|t|)    \n",
       "(Intercept)       10.38514    0.11435  90.816   <2e-16 ***\n",
       "age               -0.26030    0.15767  -1.651   0.1000 .  \n",
       "Medu               0.17251    0.19598   0.880   0.3796    \n",
       "Fedu              -0.17275    0.16680  -1.036   0.3013    \n",
       "traveltime         0.02837    0.13147   0.216   0.8293    \n",
       "studytime         -0.16550    0.13690  -1.209   0.2278    \n",
       "failures          -0.14880    0.14364  -1.036   0.3012    \n",
       "famrel             0.30403    0.12411   2.450   0.0150 *  \n",
       "freetime          -0.04655    0.13715  -0.339   0.7346    \n",
       "goout              0.06854    0.14202   0.483   0.6298    \n",
       "Dalc              -0.10115    0.16256  -0.622   0.5344    \n",
       "Walc               0.15596    0.17528   0.890   0.3744    \n",
       "health             0.12374    0.13012   0.951   0.3425    \n",
       "absences           0.33411    0.13192   2.533   0.0119 *  \n",
       "G1                 0.72403    0.26383   2.744   0.0065 ** \n",
       "G2                 3.61083    0.25236  14.308   <2e-16 ***\n",
       "school_MS          0.24199    0.14986   1.615   0.1076    \n",
       "sex_M              0.13879    0.13889   0.999   0.3186    \n",
       "address_U          0.09544    0.13748   0.694   0.4882    \n",
       "famsize_LE3        0.03503    0.12807   0.273   0.7847    \n",
       "Pstatus_T         -0.05404    0.12625  -0.428   0.6690    \n",
       "Mjob_health       -0.02801    0.17862  -0.157   0.8755    \n",
       "Mjob_other        -0.03106    0.19188  -0.162   0.8715    \n",
       "Mjob_services     -0.07968    0.19686  -0.405   0.6860    \n",
       "Mjob_teacher      -0.02325    0.20991  -0.111   0.9119    \n",
       "Fjob_health       -0.01418    0.16894  -0.084   0.9332    \n",
       "Fjob_other         0.03811    0.28309   0.135   0.8930    \n",
       "Fjob_services     -0.15278    0.26482  -0.577   0.5645    \n",
       "Fjob_teacher      -0.02316    0.19504  -0.119   0.9056    \n",
       "reason_home       -0.06829    0.13711  -0.498   0.6188    \n",
       "reason_other       0.06399    0.12991   0.493   0.6228    \n",
       "reason_reputation  0.12150    0.14494   0.838   0.4027    \n",
       "guardian_mother    0.04913    0.14208   0.346   0.7298    \n",
       "guardian_other     0.03004    0.15261   0.197   0.8441    \n",
       "schoolsup_yes      0.21012    0.13219   1.589   0.1132    \n",
       "famsup_yes         0.11442    0.13099   0.873   0.3832    \n",
       "paid_yes          -0.01399    0.13104  -0.107   0.9150    \n",
       "activities_yes    -0.12139    0.12412  -0.978   0.3290    \n",
       "nursery_yes       -0.01154    0.12732  -0.091   0.9279    \n",
       "higher_yes         0.09718    0.13008   0.747   0.4557    \n",
       "internet_yes      -0.02403    0.13110  -0.183   0.8547    \n",
       "romantic_yes      -0.13522    0.12613  -1.072   0.2847    \n",
       "---\n",
       "Signif. codes:  0 ‘***’ 0.001 ‘**’ 0.01 ‘*’ 0.05 ‘.’ 0.1 ‘ ’ 1\n",
       "\n",
       "Residual standard error: 1.967 on 254 degrees of freedom\n",
       "Multiple R-squared:  0.8505,\tAdjusted R-squared:  0.8264 \n",
       "F-statistic: 35.25 on 41 and 254 DF,  p-value: < 2.2e-16\n"
      ]
     },
     "metadata": {},
     "output_type": "display_data"
    }
   ],
   "source": [
    "model <- lm(formula=y_train~.,data=x_train)\n",
    "summary(model)"
   ]
  },
  {
   "cell_type": "code",
   "execution_count": 4,
   "id": "7626eb51",
   "metadata": {},
   "outputs": [],
   "source": [
    "x_test <- preprocesar(x_test)\n",
    "pred <- predict(model, x_test)\n",
    "modelEval <- cbind(y_test, pred)\n",
    "colnames(modelEval) <- c('Actual', 'Predicted')\n",
    "modelEval <- as.data.frame(modelEval)"
   ]
  },
  {
   "cell_type": "code",
   "execution_count": 5,
   "id": "f7c8ff32",
   "metadata": {},
   "outputs": [
    {
     "name": "stdout",
     "output_type": "stream",
     "text": [
      "Mean Squared Error: 3.341237NULL\n",
      "Mean Absolute Error: 1.827905NULL\n"
     ]
    }
   ],
   "source": [
    "mse <- mean((modelEval$Actual - modelEval$Predicted)**2)\n",
    "rmse <- sqrt(mse)\n",
    "print(cat(\"Mean Squared Error:\",mse))\n",
    "print(cat(\"Mean Absolute Error:\",rmse))"
   ]
  },
  {
   "cell_type": "markdown",
   "id": "03073636",
   "metadata": {},
   "source": [
    "# Lasso"
   ]
  },
  {
   "cell_type": "code",
   "execution_count": 6,
   "id": "3c9b50cf",
   "metadata": {},
   "outputs": [
    {
     "name": "stderr",
     "output_type": "stream",
     "text": [
      "Loading required package: Matrix\n",
      "\n",
      "Loaded glmnet 4.1-2\n",
      "\n"
     ]
    }
   ],
   "source": [
    "library(\"glmnet\")"
   ]
  },
  {
   "cell_type": "code",
   "execution_count": 7,
   "id": "2c0bf200",
   "metadata": {},
   "outputs": [],
   "source": [
    "# Cargo el csv\n",
    "mat <- read.csv(\"student-mat.csv\")\n",
    "\n",
    "# Train y Test\n",
    "sample <- sample.int(n = nrow(mat), size = floor(.75*nrow(mat)), replace = F)\n",
    "train <- mat[sample, ]\n",
    "test  <- mat[-sample, ]\n",
    "y_train <- c(train$G3)\n",
    "x_train <- subset(train, select = -c(G3))\n",
    "y_test <- c(test$G3)\n",
    "x_test <- subset(test, select = -c(G3))"
   ]
  },
  {
   "cell_type": "code",
   "execution_count": 8,
   "id": "63fe40a9",
   "metadata": {},
   "outputs": [],
   "source": [
    "mat_prepros <- dummy_cols(x_train,remove_first_dummy = TRUE)\n",
    "mat_prepros <- mat_prepros[-c(1,2,4,5,6,9,10,11,12,16,17,18,19,20,21,22,23)]\n",
    "x_train <- scale(mat_prepros)\n",
    "\n",
    "mat_prepros <- dummy_cols(x_test,remove_first_dummy = TRUE)\n",
    "mat_prepros <- mat_prepros[-c(1,2,4,5,6,9,10,11,12,16,17,18,19,20,21,22,23)]\n",
    "x_test <- scale(mat_prepros)"
   ]
  },
  {
   "cell_type": "code",
   "execution_count": 9,
   "id": "ebd17acc",
   "metadata": {},
   "outputs": [],
   "source": [
    "lambdas <- 10^seq(2, -3, by = -.1)"
   ]
  },
  {
   "cell_type": "code",
   "execution_count": 10,
   "id": "c39895a1",
   "metadata": {},
   "outputs": [
    {
     "data": {
      "text/html": [
       "0.199526231496888"
      ],
      "text/latex": [
       "0.199526231496888"
      ],
      "text/markdown": [
       "0.199526231496888"
      ],
      "text/plain": [
       "[1] 0.1995262"
      ]
     },
     "metadata": {},
     "output_type": "display_data"
    }
   ],
   "source": [
    "# Setting alpha = 1 implements lasso regression\n",
    "lasso_reg <- cv.glmnet(x_train, y_train, alpha = 1, lambda = lambdas, standardize = TRUE, nfolds = 5)\n",
    "\n",
    "# Best \n",
    "lambda_best <- lasso_reg$lambda.min\n",
    "lambda_best"
   ]
  },
  {
   "cell_type": "code",
   "execution_count": 11,
   "id": "8b8e77d9",
   "metadata": {},
   "outputs": [
    {
     "data": {
      "text/html": [
       "<table class=\"dataframe\">\n",
       "<caption>A data.frame: 1 × 2</caption>\n",
       "<thead>\n",
       "\t<tr><th scope=col>RMSE</th><th scope=col>Rsquare</th></tr>\n",
       "\t<tr><th scope=col>&lt;dbl&gt;</th><th scope=col>&lt;dbl&gt;</th></tr>\n",
       "</thead>\n",
       "<tbody>\n",
       "\t<tr><td>1.887821</td><td>0.8226309</td></tr>\n",
       "</tbody>\n",
       "</table>\n"
      ],
      "text/latex": [
       "A data.frame: 1 × 2\n",
       "\\begin{tabular}{ll}\n",
       " RMSE & Rsquare\\\\\n",
       " <dbl> & <dbl>\\\\\n",
       "\\hline\n",
       "\t 1.887821 & 0.8226309\\\\\n",
       "\\end{tabular}\n"
      ],
      "text/markdown": [
       "\n",
       "A data.frame: 1 × 2\n",
       "\n",
       "| RMSE &lt;dbl&gt; | Rsquare &lt;dbl&gt; |\n",
       "|---|---|\n",
       "| 1.887821 | 0.8226309 |\n",
       "\n"
      ],
      "text/plain": [
       "  RMSE     Rsquare  \n",
       "1 1.887821 0.8226309"
      ]
     },
     "metadata": {},
     "output_type": "display_data"
    },
    {
     "data": {
      "text/html": [
       "<table class=\"dataframe\">\n",
       "<caption>A data.frame: 1 × 2</caption>\n",
       "<thead>\n",
       "\t<tr><th scope=col>RMSE</th><th scope=col>Rsquare</th></tr>\n",
       "\t<tr><th scope=col>&lt;dbl&gt;</th><th scope=col>&lt;dbl&gt;</th></tr>\n",
       "</thead>\n",
       "<tbody>\n",
       "\t<tr><td>2.06505</td><td>0.8180328</td></tr>\n",
       "</tbody>\n",
       "</table>\n"
      ],
      "text/latex": [
       "A data.frame: 1 × 2\n",
       "\\begin{tabular}{ll}\n",
       " RMSE & Rsquare\\\\\n",
       " <dbl> & <dbl>\\\\\n",
       "\\hline\n",
       "\t 2.06505 & 0.8180328\\\\\n",
       "\\end{tabular}\n"
      ],
      "text/markdown": [
       "\n",
       "A data.frame: 1 × 2\n",
       "\n",
       "| RMSE &lt;dbl&gt; | Rsquare &lt;dbl&gt; |\n",
       "|---|---|\n",
       "| 2.06505 | 0.8180328 |\n",
       "\n"
      ],
      "text/plain": [
       "  RMSE    Rsquare  \n",
       "1 2.06505 0.8180328"
      ]
     },
     "metadata": {},
     "output_type": "display_data"
    }
   ],
   "source": [
    "eval_results <- function(true, predicted, df) {\n",
    "  SSE <- sum((predicted - true)^2)\n",
    "  SST <- sum((true - mean(true))^2)\n",
    "  R_square <- 1 - SSE / SST\n",
    "  RMSE = sqrt(SSE/nrow(df))\n",
    "\n",
    "  \n",
    "  # Model performance metrics\n",
    "data.frame(\n",
    "  RMSE = RMSE,\n",
    "  Rsquare = R_square\n",
    ")\n",
    "  \n",
    "}\n",
    "\n",
    "# Prediction and evaluation on train data\n",
    "predictions_train <- predict(lasso_reg, s = lambda_best, newx = x_train)\n",
    "eval_results(y_train, predictions_train, x_train)\n",
    "\n",
    "predictions_test <- predict(lasso_reg, s = lambda_best, newx = x_test)\n",
    "eval_results(y_test, predictions_test, x_test)"
   ]
  },
  {
   "cell_type": "code",
   "execution_count": 17,
   "id": "e3ac6d70",
   "metadata": {},
   "outputs": [
    {
     "data": {
      "text/plain": [
       "42 x 1 sparse Matrix of class \"dgCMatrix\"\n",
       "                           s1\n",
       "(Intercept)       10.45945946\n",
       "age                .         \n",
       "Medu               .         \n",
       "Fedu               .         \n",
       "traveltime         .         \n",
       "studytime          .         \n",
       "failures          -0.17659855\n",
       "famrel             0.02123133\n",
       "freetime           .         \n",
       "goout              .         \n",
       "Dalc               .         \n",
       "Walc               .         \n",
       "health             .         \n",
       "absences           0.10431589\n",
       "G1                 0.46150996\n",
       "G2                 3.37595063\n",
       "school_MS          .         \n",
       "sex_M              .         \n",
       "address_U          .         \n",
       "famsize_LE3        .         \n",
       "Pstatus_T          .         \n",
       "Mjob_health        .         \n",
       "Mjob_other         .         \n",
       "Mjob_services      .         \n",
       "Mjob_teacher       .         \n",
       "Fjob_health        .         \n",
       "Fjob_other         .         \n",
       "Fjob_services     -0.03969034\n",
       "Fjob_teacher       .         \n",
       "reason_home       -0.04956248\n",
       "reason_other       .         \n",
       "reason_reputation  .         \n",
       "guardian_mother    .         \n",
       "guardian_other     .         \n",
       "schoolsup_yes      .         \n",
       "famsup_yes         .         \n",
       "paid_yes           .         \n",
       "activities_yes     .         \n",
       "nursery_yes        .         \n",
       "higher_yes         .         \n",
       "internet_yes       .         \n",
       "romantic_yes      -0.03076608"
      ]
     },
     "metadata": {},
     "output_type": "display_data"
    }
   ],
   "source": [
    "coef(lasso_reg, s = \"lambda.min\")"
   ]
  },
  {
   "cell_type": "markdown",
   "id": "c8f695f9",
   "metadata": {},
   "source": [
    "# Ridge"
   ]
  },
  {
   "cell_type": "code",
   "execution_count": 18,
   "id": "09dce785",
   "metadata": {},
   "outputs": [],
   "source": [
    "library(\"glmnet\")"
   ]
  },
  {
   "cell_type": "code",
   "execution_count": 19,
   "id": "0e9aa714",
   "metadata": {},
   "outputs": [],
   "source": [
    "# Cargo el csv\n",
    "mat <- read.csv(\"student-mat.csv\")\n",
    "\n",
    "# Train y Test\n",
    "sample <- sample.int(n = nrow(mat), size = floor(.75*nrow(mat)), replace = F)\n",
    "train <- mat[sample, ]\n",
    "test  <- mat[-sample, ]\n",
    "y_train <- c(train$G3)\n",
    "x_train <- subset(train, select = -c(G3))\n",
    "y_test <- c(test$G3)\n",
    "x_test <- subset(test, select = -c(G3))"
   ]
  },
  {
   "cell_type": "code",
   "execution_count": 20,
   "id": "c4a86766",
   "metadata": {},
   "outputs": [],
   "source": [
    "mat_prepros <- dummy_cols(x_train,remove_first_dummy = TRUE)\n",
    "mat_prepros <- mat_prepros[-c(1,2,4,5,6,9,10,11,12,16,17,18,19,20,21,22,23)]\n",
    "x_train <- scale(mat_prepros)\n",
    "\n",
    "mat_prepros <- dummy_cols(x_test,remove_first_dummy = TRUE)\n",
    "mat_prepros <- mat_prepros[-c(1,2,4,5,6,9,10,11,12,16,17,18,19,20,21,22,23)]\n",
    "x_test <- scale(mat_prepros)"
   ]
  },
  {
   "cell_type": "code",
   "execution_count": 21,
   "id": "dde1078a",
   "metadata": {},
   "outputs": [],
   "source": [
    "lambdas <- 10^seq(2, -3, by = -.1)"
   ]
  },
  {
   "cell_type": "code",
   "execution_count": 22,
   "id": "3e89325c",
   "metadata": {},
   "outputs": [
    {
     "data": {
      "text/html": [
       "0.125892541179417"
      ],
      "text/latex": [
       "0.125892541179417"
      ],
      "text/markdown": [
       "0.125892541179417"
      ],
      "text/plain": [
       "[1] 0.1258925"
      ]
     },
     "metadata": {},
     "output_type": "display_data"
    }
   ],
   "source": [
    "ridge_reg <- cv.glmnet(x_train, y_train, alpha = 0, lambda = lambdas)\n",
    "optimal_lambda <- ridge_reg$lambda.min\n",
    "optimal_lambda"
   ]
  },
  {
   "cell_type": "code",
   "execution_count": 23,
   "id": "1f3aebee",
   "metadata": {},
   "outputs": [
    {
     "data": {
      "text/html": [
       "<table class=\"dataframe\">\n",
       "<caption>A data.frame: 1 × 2</caption>\n",
       "<thead>\n",
       "\t<tr><th scope=col>RMSE</th><th scope=col>Rsquare</th></tr>\n",
       "\t<tr><th scope=col>&lt;dbl&gt;</th><th scope=col>&lt;dbl&gt;</th></tr>\n",
       "</thead>\n",
       "<tbody>\n",
       "\t<tr><td>1.590127</td><td>0.8676857</td></tr>\n",
       "</tbody>\n",
       "</table>\n"
      ],
      "text/latex": [
       "A data.frame: 1 × 2\n",
       "\\begin{tabular}{ll}\n",
       " RMSE & Rsquare\\\\\n",
       " <dbl> & <dbl>\\\\\n",
       "\\hline\n",
       "\t 1.590127 & 0.8676857\\\\\n",
       "\\end{tabular}\n"
      ],
      "text/markdown": [
       "\n",
       "A data.frame: 1 × 2\n",
       "\n",
       "| RMSE &lt;dbl&gt; | Rsquare &lt;dbl&gt; |\n",
       "|---|---|\n",
       "| 1.590127 | 0.8676857 |\n",
       "\n"
      ],
      "text/plain": [
       "  RMSE     Rsquare  \n",
       "1 1.590127 0.8676857"
      ]
     },
     "metadata": {},
     "output_type": "display_data"
    },
    {
     "data": {
      "text/html": [
       "<table class=\"dataframe\">\n",
       "<caption>A data.frame: 1 × 2</caption>\n",
       "<thead>\n",
       "\t<tr><th scope=col>RMSE</th><th scope=col>Rsquare</th></tr>\n",
       "\t<tr><th scope=col>&lt;dbl&gt;</th><th scope=col>&lt;dbl&gt;</th></tr>\n",
       "</thead>\n",
       "<tbody>\n",
       "\t<tr><td>2.695203</td><td>0.7158834</td></tr>\n",
       "</tbody>\n",
       "</table>\n"
      ],
      "text/latex": [
       "A data.frame: 1 × 2\n",
       "\\begin{tabular}{ll}\n",
       " RMSE & Rsquare\\\\\n",
       " <dbl> & <dbl>\\\\\n",
       "\\hline\n",
       "\t 2.695203 & 0.7158834\\\\\n",
       "\\end{tabular}\n"
      ],
      "text/markdown": [
       "\n",
       "A data.frame: 1 × 2\n",
       "\n",
       "| RMSE &lt;dbl&gt; | Rsquare &lt;dbl&gt; |\n",
       "|---|---|\n",
       "| 2.695203 | 0.7158834 |\n",
       "\n"
      ],
      "text/plain": [
       "  RMSE     Rsquare  \n",
       "1 2.695203 0.7158834"
      ]
     },
     "metadata": {},
     "output_type": "display_data"
    }
   ],
   "source": [
    "# Prediction and evaluation on train data\n",
    "predictions_train <- predict(ridge_reg, s = optimal_lambda, newx = x_train)\n",
    "eval_results(y_train, predictions_train, x_train)\n",
    "\n",
    "# Prediction and evaluation on test data\n",
    "predictions_test <- predict(ridge_reg, s = optimal_lambda, newx = x_test)\n",
    "eval_results(y_test, predictions_test, x_test)"
   ]
  },
  {
   "cell_type": "code",
   "execution_count": 24,
   "id": "54c2a274",
   "metadata": {},
   "outputs": [
    {
     "data": {
      "text/plain": [
       "42 x 1 sparse Matrix of class \"dgCMatrix\"\n",
       "                            s1\n",
       "(Intercept)       10.679054054\n",
       "age               -0.159738060\n",
       "Medu              -0.106945984\n",
       "Fedu              -0.127835019\n",
       "traveltime         0.133913017\n",
       "studytime          0.066882301\n",
       "failures          -0.115124095\n",
       "famrel             0.283967655\n",
       "freetime           0.105476411\n",
       "goout             -0.027368585\n",
       "Dalc              -0.296898844\n",
       "Walc               0.227371892\n",
       "health             0.055727432\n",
       "absences           0.342006129\n",
       "G1                 0.827802413\n",
       "G2                 3.180116777\n",
       "school_MS          0.066064249\n",
       "sex_M              0.150105256\n",
       "address_U         -0.011293040\n",
       "famsize_LE3        0.017081662\n",
       "Pstatus_T         -0.069275931\n",
       "Mjob_health       -0.011507760\n",
       "Mjob_other         0.027920244\n",
       "Mjob_services      0.181023446\n",
       "Mjob_teacher       0.169523364\n",
       "Fjob_health        0.089738501\n",
       "Fjob_other         0.079833348\n",
       "Fjob_services      0.009117581\n",
       "Fjob_teacher      -0.035616840\n",
       "reason_home       -0.144641773\n",
       "reason_other       0.132715275\n",
       "reason_reputation  0.084723642\n",
       "guardian_mother    0.125442119\n",
       "guardian_other    -0.070138447\n",
       "schoolsup_yes      0.155261057\n",
       "famsup_yes         0.105330786\n",
       "paid_yes           0.014454775\n",
       "activities_yes    -0.192355935\n",
       "nursery_yes       -0.130893142\n",
       "higher_yes         0.211809023\n",
       "internet_yes      -0.118185368\n",
       "romantic_yes      -0.125569415"
      ]
     },
     "metadata": {},
     "output_type": "display_data"
    }
   ],
   "source": [
    "coef(ridge_reg, s = \"lambda.min\")"
   ]
  }
 ],
 "metadata": {
  "kernelspec": {
   "display_name": "R",
   "language": "R",
   "name": "ir"
  },
  "language_info": {
   "codemirror_mode": "r",
   "file_extension": ".r",
   "mimetype": "text/x-r-source",
   "name": "R",
   "pygments_lexer": "r",
   "version": "4.1.1"
  }
 },
 "nbformat": 4,
 "nbformat_minor": 5
}
